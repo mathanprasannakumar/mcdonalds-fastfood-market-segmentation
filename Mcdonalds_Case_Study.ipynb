{
 "cells": [
  {
   "cell_type": "markdown",
   "metadata": {},
   "source": [
    "## Importing the required dependencies"
   ]
  },
  {
   "cell_type": "code",
   "execution_count": 6,
   "metadata": {},
   "outputs": [
    {
     "name": "stderr",
     "output_type": "stream",
     "text": [
      "/usr/lib/python3/dist-packages/scipy/__init__.py:146: UserWarning: A NumPy version >=1.17.3 and <1.25.0 is required for this version of SciPy (detected version 1.26.0\n",
      "  warnings.warn(f\"A NumPy version >={np_minversion} and <{np_maxversion}\"\n"
     ]
    }
   ],
   "source": [
    "# computation libraries\n",
    "import pandas as pd\n",
    "import numpy as np\n",
    "\n",
    "# Preprocessing and EDA\n",
    "from sklearn.decomposition import PCA\n",
    "from sklearn import preprocessing\n",
    "\n",
    "# vizualization\n",
    "from bioinfokit.visuz import cluster\n",
    "import matplotlib.pyplot as plt\n",
    "\n",
    "# Machine  learning algorithms\n",
    "from sklearn.cluster import KMeans\n",
    "from sklearn.utils import resample\n",
    "# metrics\n",
    "from sklearn.metrics import adjusted_rand_score\n",
    "\n"
   ]
  },
  {
   "cell_type": "code",
   "execution_count": 7,
   "metadata": {},
   "outputs": [
    {
     "name": "stdout",
     "output_type": "stream",
     "text": [
      "Defaulting to user installation because normal site-packages is not writeable\n",
      "Requirement already satisfied: bioinfokit in /home/mat/.local/lib/python3.10/site-packages (2.1.3)\n",
      "Requirement already satisfied: scikit-learn in /home/mat/.local/lib/python3.10/site-packages (from bioinfokit) (1.3.1)\n",
      "Requirement already satisfied: textwrap3 in /home/mat/.local/lib/python3.10/site-packages (from bioinfokit) (0.9.2)\n",
      "Requirement already satisfied: adjustText in /home/mat/.local/lib/python3.10/site-packages (from bioinfokit) (0.8)\n",
      "Requirement already satisfied: pandas in /home/mat/.local/lib/python3.10/site-packages (from bioinfokit) (2.1.1)\n",
      "Requirement already satisfied: scipy in /usr/lib/python3/dist-packages (from bioinfokit) (1.8.0)\n",
      "Requirement already satisfied: matplotlib in /usr/lib/python3/dist-packages (from bioinfokit) (3.5.1)\n",
      "Requirement already satisfied: statsmodels in /home/mat/.local/lib/python3.10/site-packages (from bioinfokit) (0.14.0)\n",
      "Requirement already satisfied: tabulate in /home/mat/.local/lib/python3.10/site-packages (from bioinfokit) (0.9.0)\n",
      "Requirement already satisfied: matplotlib-venn in /home/mat/.local/lib/python3.10/site-packages (from bioinfokit) (0.11.9)\n",
      "Requirement already satisfied: numpy in /home/mat/.local/lib/python3.10/site-packages (from bioinfokit) (1.26.0)\n",
      "Requirement already satisfied: seaborn in /home/mat/.local/lib/python3.10/site-packages (from bioinfokit) (0.13.0)\n",
      "Requirement already satisfied: python-dateutil>=2.8.2 in /home/mat/.local/lib/python3.10/site-packages (from pandas->bioinfokit) (2.8.2)\n",
      "Requirement already satisfied: pytz>=2020.1 in /usr/lib/python3/dist-packages (from pandas->bioinfokit) (2022.1)\n",
      "Requirement already satisfied: tzdata>=2022.1 in /home/mat/.local/lib/python3.10/site-packages (from pandas->bioinfokit) (2023.3)\n",
      "Requirement already satisfied: joblib>=1.1.1 in /home/mat/.local/lib/python3.10/site-packages (from scikit-learn->bioinfokit) (1.3.2)\n",
      "Requirement already satisfied: threadpoolctl>=2.0.0 in /home/mat/.local/lib/python3.10/site-packages (from scikit-learn->bioinfokit) (3.2.0)\n",
      "Requirement already satisfied: patsy>=0.5.2 in /home/mat/.local/lib/python3.10/site-packages (from statsmodels->bioinfokit) (0.5.3)\n",
      "Requirement already satisfied: packaging>=21.3 in /usr/lib/python3/dist-packages (from statsmodels->bioinfokit) (21.3)\n",
      "Requirement already satisfied: six in /usr/lib/python3/dist-packages (from patsy>=0.5.2->statsmodels->bioinfokit) (1.16.0)\n",
      "Note: you may need to restart the kernel to use updated packages.\n"
     ]
    }
   ],
   "source": [
    "pip install bioinfokit"
   ]
  },
  {
   "cell_type": "code",
   "execution_count": 8,
   "metadata": {},
   "outputs": [
    {
     "data": {
      "text/plain": [
       "['yummy',\n",
       " 'convenient',\n",
       " 'spicy',\n",
       " 'fattening',\n",
       " 'greasy',\n",
       " 'fast',\n",
       " 'cheap',\n",
       " 'tasty',\n",
       " 'expensive',\n",
       " 'healthy',\n",
       " 'disgusting',\n",
       " 'Like',\n",
       " 'Age',\n",
       " 'VisitFrequency',\n",
       " 'Gender']"
      ]
     },
     "execution_count": 8,
     "metadata": {},
     "output_type": "execute_result"
    }
   ],
   "source": [
    "data=pd.read_csv(\"mcdonalds.csv\") ## reading the data set \n",
    "data1=pd.read_csv(\"mcdonalds.csv\") \n",
    "data.columns.values.tolist() # listing all the features present in the dataset"
   ]
  },
  {
   "cell_type": "code",
   "execution_count": 9,
   "metadata": {},
   "outputs": [
    {
     "data": {
      "text/plain": [
       "(1453, 15)"
      ]
     },
     "execution_count": 9,
     "metadata": {},
     "output_type": "execute_result"
    }
   ],
   "source": [
    "# checking the shape of the data\n",
    "data.shape "
   ]
  },
  {
   "cell_type": "code",
   "execution_count": 10,
   "metadata": {},
   "outputs": [
    {
     "data": {
      "text/html": [
       "<div>\n",
       "<style scoped>\n",
       "    .dataframe tbody tr th:only-of-type {\n",
       "        vertical-align: middle;\n",
       "    }\n",
       "\n",
       "    .dataframe tbody tr th {\n",
       "        vertical-align: top;\n",
       "    }\n",
       "\n",
       "    .dataframe thead th {\n",
       "        text-align: right;\n",
       "    }\n",
       "</style>\n",
       "<table border=\"1\" class=\"dataframe\">\n",
       "  <thead>\n",
       "    <tr style=\"text-align: right;\">\n",
       "      <th></th>\n",
       "      <th>yummy</th>\n",
       "      <th>convenient</th>\n",
       "      <th>spicy</th>\n",
       "      <th>fattening</th>\n",
       "      <th>greasy</th>\n",
       "      <th>fast</th>\n",
       "      <th>cheap</th>\n",
       "      <th>tasty</th>\n",
       "      <th>expensive</th>\n",
       "      <th>healthy</th>\n",
       "      <th>disgusting</th>\n",
       "      <th>Like</th>\n",
       "      <th>Age</th>\n",
       "      <th>VisitFrequency</th>\n",
       "      <th>Gender</th>\n",
       "    </tr>\n",
       "  </thead>\n",
       "  <tbody>\n",
       "    <tr>\n",
       "      <th>0</th>\n",
       "      <td>No</td>\n",
       "      <td>Yes</td>\n",
       "      <td>No</td>\n",
       "      <td>Yes</td>\n",
       "      <td>No</td>\n",
       "      <td>Yes</td>\n",
       "      <td>Yes</td>\n",
       "      <td>No</td>\n",
       "      <td>Yes</td>\n",
       "      <td>No</td>\n",
       "      <td>No</td>\n",
       "      <td>-3</td>\n",
       "      <td>61</td>\n",
       "      <td>Every three months</td>\n",
       "      <td>Female</td>\n",
       "    </tr>\n",
       "    <tr>\n",
       "      <th>1</th>\n",
       "      <td>Yes</td>\n",
       "      <td>Yes</td>\n",
       "      <td>No</td>\n",
       "      <td>Yes</td>\n",
       "      <td>Yes</td>\n",
       "      <td>Yes</td>\n",
       "      <td>Yes</td>\n",
       "      <td>Yes</td>\n",
       "      <td>Yes</td>\n",
       "      <td>No</td>\n",
       "      <td>No</td>\n",
       "      <td>2</td>\n",
       "      <td>51</td>\n",
       "      <td>Every three months</td>\n",
       "      <td>Female</td>\n",
       "    </tr>\n",
       "    <tr>\n",
       "      <th>2</th>\n",
       "      <td>No</td>\n",
       "      <td>Yes</td>\n",
       "      <td>Yes</td>\n",
       "      <td>Yes</td>\n",
       "      <td>Yes</td>\n",
       "      <td>Yes</td>\n",
       "      <td>No</td>\n",
       "      <td>Yes</td>\n",
       "      <td>Yes</td>\n",
       "      <td>Yes</td>\n",
       "      <td>No</td>\n",
       "      <td>1</td>\n",
       "      <td>62</td>\n",
       "      <td>Every three months</td>\n",
       "      <td>Female</td>\n",
       "    </tr>\n",
       "  </tbody>\n",
       "</table>\n",
       "</div>"
      ],
      "text/plain": [
       "  yummy convenient spicy fattening greasy fast cheap tasty expensive healthy  \\\n",
       "0    No        Yes    No       Yes     No  Yes   Yes    No       Yes      No   \n",
       "1   Yes        Yes    No       Yes    Yes  Yes   Yes   Yes       Yes      No   \n",
       "2    No        Yes   Yes       Yes    Yes  Yes    No   Yes       Yes     Yes   \n",
       "\n",
       "  disgusting Like  Age      VisitFrequency  Gender  \n",
       "0         No   -3   61  Every three months  Female  \n",
       "1         No    2   51  Every three months  Female  \n",
       "2         No    1   62  Every three months  Female  "
      ]
     },
     "execution_count": 10,
     "metadata": {},
     "output_type": "execute_result"
    }
   ],
   "source": [
    "# listing the first 3 samples of the dataset\n",
    "data.head(3) "
   ]
  },
  {
   "cell_type": "code",
   "execution_count": 11,
   "metadata": {},
   "outputs": [
    {
     "data": {
      "text/plain": [
       "yummy         0.55\n",
       "convenient    0.91\n",
       "spicy         0.09\n",
       "fattening     0.87\n",
       "greasy        0.53\n",
       "fast          0.90\n",
       "cheap         0.60\n",
       "tasty         0.64\n",
       "expensive     0.36\n",
       "healthy       0.20\n",
       "disgusting    0.24\n",
       "dtype: float64"
      ]
     },
     "execution_count": 11,
     "metadata": {},
     "output_type": "execute_result"
    }
   ],
   "source": [
    "# here converting the Categorical values to numerical value\n",
    "MD=data.iloc[:,0:11].replace(\"Yes\",1).replace(\"No\",0)\n",
    "mean=round(MD.mean(),2) # mean for all the features\n",
    "mean"
   ]
  },
  {
   "cell_type": "code",
   "execution_count": 12,
   "metadata": {},
   "outputs": [
    {
     "data": {
      "text/html": [
       "<div>\n",
       "<style scoped>\n",
       "    .dataframe tbody tr th:only-of-type {\n",
       "        vertical-align: middle;\n",
       "    }\n",
       "\n",
       "    .dataframe tbody tr th {\n",
       "        vertical-align: top;\n",
       "    }\n",
       "\n",
       "    .dataframe thead th {\n",
       "        text-align: right;\n",
       "    }\n",
       "</style>\n",
       "<table border=\"1\" class=\"dataframe\">\n",
       "  <thead>\n",
       "    <tr style=\"text-align: right;\">\n",
       "      <th></th>\n",
       "      <th>Standard deviation</th>\n",
       "      <th>Proportion of Variance</th>\n",
       "      <th>Cumulative Proportion</th>\n",
       "    </tr>\n",
       "  </thead>\n",
       "  <tbody>\n",
       "    <tr>\n",
       "      <th>PC1</th>\n",
       "      <td>0.757050</td>\n",
       "      <td>0.299447</td>\n",
       "      <td>0.299447</td>\n",
       "    </tr>\n",
       "    <tr>\n",
       "      <th>PC2</th>\n",
       "      <td>0.607456</td>\n",
       "      <td>0.192797</td>\n",
       "      <td>0.492244</td>\n",
       "    </tr>\n",
       "    <tr>\n",
       "      <th>PC3</th>\n",
       "      <td>0.504619</td>\n",
       "      <td>0.133045</td>\n",
       "      <td>0.625290</td>\n",
       "    </tr>\n",
       "    <tr>\n",
       "      <th>PC4</th>\n",
       "      <td>0.398799</td>\n",
       "      <td>0.083096</td>\n",
       "      <td>0.708386</td>\n",
       "    </tr>\n",
       "    <tr>\n",
       "      <th>PC5</th>\n",
       "      <td>0.337405</td>\n",
       "      <td>0.059481</td>\n",
       "      <td>0.767866</td>\n",
       "    </tr>\n",
       "    <tr>\n",
       "      <th>PC6</th>\n",
       "      <td>0.310275</td>\n",
       "      <td>0.050300</td>\n",
       "      <td>0.818166</td>\n",
       "    </tr>\n",
       "    <tr>\n",
       "      <th>PC7</th>\n",
       "      <td>0.289697</td>\n",
       "      <td>0.043849</td>\n",
       "      <td>0.862015</td>\n",
       "    </tr>\n",
       "    <tr>\n",
       "      <th>PC8</th>\n",
       "      <td>0.275122</td>\n",
       "      <td>0.039548</td>\n",
       "      <td>0.901563</td>\n",
       "    </tr>\n",
       "    <tr>\n",
       "      <th>PC9</th>\n",
       "      <td>0.265251</td>\n",
       "      <td>0.036761</td>\n",
       "      <td>0.938323</td>\n",
       "    </tr>\n",
       "    <tr>\n",
       "      <th>PC10</th>\n",
       "      <td>0.248842</td>\n",
       "      <td>0.032353</td>\n",
       "      <td>0.970677</td>\n",
       "    </tr>\n",
       "    <tr>\n",
       "      <th>PC11</th>\n",
       "      <td>0.236903</td>\n",
       "      <td>0.029323</td>\n",
       "      <td>1.000000</td>\n",
       "    </tr>\n",
       "  </tbody>\n",
       "</table>\n",
       "</div>"
      ],
      "text/plain": [
       "      Standard deviation  Proportion of Variance  Cumulative Proportion\n",
       "PC1             0.757050                0.299447               0.299447\n",
       "PC2             0.607456                0.192797               0.492244\n",
       "PC3             0.504619                0.133045               0.625290\n",
       "PC4             0.398799                0.083096               0.708386\n",
       "PC5             0.337405                0.059481               0.767866\n",
       "PC6             0.310275                0.050300               0.818166\n",
       "PC7             0.289697                0.043849               0.862015\n",
       "PC8             0.275122                0.039548               0.901563\n",
       "PC9             0.265251                0.036761               0.938323\n",
       "PC10            0.248842                0.032353               0.970677\n",
       "PC11            0.236903                0.029323               1.000000"
      ]
     },
     "execution_count": 12,
     "metadata": {},
     "output_type": "execute_result"
    }
   ],
   "source": [
    "# For only considering the important features that explain the maximum variation of the data we are using PCA to figure\n",
    "# the most important features in the dataset\n",
    "pca = PCA()\n",
    "# Learning from the dataset by fitting to it and calculate the important features\n",
    "MD_pca=pca.fit_transform(MD)\n",
    "MD_p=pca.fit(MD)\n",
    "\n",
    "SD=np.sqrt(pca.explained_variance_)\n",
    "PV=pca.explained_variance_ratio_\n",
    "index=[]\n",
    "for i in range(len(SD)):\n",
    "    i=i+1\n",
    "    index.append(\"PC{}\".format(i))\n",
    "\n",
    "sum=pd.DataFrame({\n",
    "    \"Standard deviation\":SD,\"Proportion of Variance\":PV,\"Cumulative Proportion\":PV.cumsum()\n",
    "},index=index)\n",
    "sum"
   ]
  },
  {
   "cell_type": "code",
   "execution_count": 13,
   "metadata": {},
   "outputs": [
    {
     "name": "stdout",
     "output_type": "stream",
     "text": [
      "Standard Deviation:\n",
      " [0.8 0.6 0.5 0.4 0.3 0.3 0.3 0.3 0.3 0.2 0.2]\n"
     ]
    },
    {
     "data": {
      "text/html": [
       "<div>\n",
       "<style scoped>\n",
       "    .dataframe tbody tr th:only-of-type {\n",
       "        vertical-align: middle;\n",
       "    }\n",
       "\n",
       "    .dataframe tbody tr th {\n",
       "        vertical-align: top;\n",
       "    }\n",
       "\n",
       "    .dataframe thead th {\n",
       "        text-align: right;\n",
       "    }\n",
       "</style>\n",
       "<table border=\"1\" class=\"dataframe\">\n",
       "  <thead>\n",
       "    <tr style=\"text-align: right;\">\n",
       "      <th></th>\n",
       "      <th>PC1</th>\n",
       "      <th>PC2</th>\n",
       "      <th>PC3</th>\n",
       "      <th>PC4</th>\n",
       "      <th>PC5</th>\n",
       "      <th>PC6</th>\n",
       "      <th>PC7</th>\n",
       "      <th>PC8</th>\n",
       "      <th>PC9</th>\n",
       "      <th>PC10</th>\n",
       "      <th>PC11</th>\n",
       "    </tr>\n",
       "  </thead>\n",
       "  <tbody>\n",
       "    <tr>\n",
       "      <th>yummy</th>\n",
       "      <td>0.477</td>\n",
       "      <td>-0.364</td>\n",
       "      <td>0.304</td>\n",
       "      <td>-0.055</td>\n",
       "      <td>0.308</td>\n",
       "      <td>-0.171</td>\n",
       "      <td>0.281</td>\n",
       "      <td>-0.013</td>\n",
       "      <td>-0.572</td>\n",
       "      <td>0.110</td>\n",
       "      <td>-0.045</td>\n",
       "    </tr>\n",
       "    <tr>\n",
       "      <th>convenient</th>\n",
       "      <td>0.155</td>\n",
       "      <td>-0.016</td>\n",
       "      <td>0.063</td>\n",
       "      <td>0.142</td>\n",
       "      <td>-0.278</td>\n",
       "      <td>0.348</td>\n",
       "      <td>0.060</td>\n",
       "      <td>0.113</td>\n",
       "      <td>0.018</td>\n",
       "      <td>0.666</td>\n",
       "      <td>0.542</td>\n",
       "    </tr>\n",
       "    <tr>\n",
       "      <th>spicy</th>\n",
       "      <td>0.006</td>\n",
       "      <td>-0.019</td>\n",
       "      <td>0.037</td>\n",
       "      <td>-0.198</td>\n",
       "      <td>-0.071</td>\n",
       "      <td>0.355</td>\n",
       "      <td>-0.708</td>\n",
       "      <td>-0.376</td>\n",
       "      <td>-0.400</td>\n",
       "      <td>0.076</td>\n",
       "      <td>-0.142</td>\n",
       "    </tr>\n",
       "    <tr>\n",
       "      <th>fattening</th>\n",
       "      <td>-0.116</td>\n",
       "      <td>0.034</td>\n",
       "      <td>0.322</td>\n",
       "      <td>0.354</td>\n",
       "      <td>0.073</td>\n",
       "      <td>0.407</td>\n",
       "      <td>0.386</td>\n",
       "      <td>-0.590</td>\n",
       "      <td>0.161</td>\n",
       "      <td>0.005</td>\n",
       "      <td>-0.251</td>\n",
       "    </tr>\n",
       "    <tr>\n",
       "      <th>greasy</th>\n",
       "      <td>-0.304</td>\n",
       "      <td>0.064</td>\n",
       "      <td>0.802</td>\n",
       "      <td>-0.254</td>\n",
       "      <td>-0.361</td>\n",
       "      <td>-0.209</td>\n",
       "      <td>-0.036</td>\n",
       "      <td>0.138</td>\n",
       "      <td>0.003</td>\n",
       "      <td>-0.009</td>\n",
       "      <td>-0.002</td>\n",
       "    </tr>\n",
       "    <tr>\n",
       "      <th>fast</th>\n",
       "      <td>0.108</td>\n",
       "      <td>0.087</td>\n",
       "      <td>0.065</td>\n",
       "      <td>0.097</td>\n",
       "      <td>-0.108</td>\n",
       "      <td>0.595</td>\n",
       "      <td>0.087</td>\n",
       "      <td>0.628</td>\n",
       "      <td>-0.166</td>\n",
       "      <td>-0.240</td>\n",
       "      <td>-0.339</td>\n",
       "    </tr>\n",
       "    <tr>\n",
       "      <th>cheap</th>\n",
       "      <td>0.337</td>\n",
       "      <td>0.611</td>\n",
       "      <td>0.149</td>\n",
       "      <td>-0.119</td>\n",
       "      <td>0.129</td>\n",
       "      <td>0.103</td>\n",
       "      <td>0.040</td>\n",
       "      <td>-0.140</td>\n",
       "      <td>-0.076</td>\n",
       "      <td>-0.428</td>\n",
       "      <td>0.489</td>\n",
       "    </tr>\n",
       "    <tr>\n",
       "      <th>tasty</th>\n",
       "      <td>0.472</td>\n",
       "      <td>-0.307</td>\n",
       "      <td>0.287</td>\n",
       "      <td>0.003</td>\n",
       "      <td>0.211</td>\n",
       "      <td>0.077</td>\n",
       "      <td>-0.360</td>\n",
       "      <td>0.073</td>\n",
       "      <td>0.639</td>\n",
       "      <td>-0.079</td>\n",
       "      <td>-0.020</td>\n",
       "    </tr>\n",
       "    <tr>\n",
       "      <th>expensive</th>\n",
       "      <td>-0.329</td>\n",
       "      <td>-0.601</td>\n",
       "      <td>-0.024</td>\n",
       "      <td>-0.068</td>\n",
       "      <td>0.003</td>\n",
       "      <td>0.261</td>\n",
       "      <td>0.068</td>\n",
       "      <td>-0.030</td>\n",
       "      <td>-0.067</td>\n",
       "      <td>-0.454</td>\n",
       "      <td>0.490</td>\n",
       "    </tr>\n",
       "    <tr>\n",
       "      <th>healthy</th>\n",
       "      <td>0.214</td>\n",
       "      <td>-0.077</td>\n",
       "      <td>-0.192</td>\n",
       "      <td>-0.763</td>\n",
       "      <td>-0.288</td>\n",
       "      <td>0.178</td>\n",
       "      <td>0.350</td>\n",
       "      <td>-0.176</td>\n",
       "      <td>0.186</td>\n",
       "      <td>0.038</td>\n",
       "      <td>-0.158</td>\n",
       "    </tr>\n",
       "    <tr>\n",
       "      <th>disgusting</th>\n",
       "      <td>-0.375</td>\n",
       "      <td>0.140</td>\n",
       "      <td>0.089</td>\n",
       "      <td>-0.370</td>\n",
       "      <td>0.729</td>\n",
       "      <td>0.211</td>\n",
       "      <td>0.027</td>\n",
       "      <td>0.167</td>\n",
       "      <td>0.072</td>\n",
       "      <td>0.290</td>\n",
       "      <td>0.041</td>\n",
       "    </tr>\n",
       "  </tbody>\n",
       "</table>\n",
       "</div>"
      ],
      "text/plain": [
       "              PC1    PC2    PC3    PC4    PC5    PC6    PC7    PC8    PC9  \\\n",
       "yummy       0.477 -0.364  0.304 -0.055  0.308 -0.171  0.281 -0.013 -0.572   \n",
       "convenient  0.155 -0.016  0.063  0.142 -0.278  0.348  0.060  0.113  0.018   \n",
       "spicy       0.006 -0.019  0.037 -0.198 -0.071  0.355 -0.708 -0.376 -0.400   \n",
       "fattening  -0.116  0.034  0.322  0.354  0.073  0.407  0.386 -0.590  0.161   \n",
       "greasy     -0.304  0.064  0.802 -0.254 -0.361 -0.209 -0.036  0.138  0.003   \n",
       "fast        0.108  0.087  0.065  0.097 -0.108  0.595  0.087  0.628 -0.166   \n",
       "cheap       0.337  0.611  0.149 -0.119  0.129  0.103  0.040 -0.140 -0.076   \n",
       "tasty       0.472 -0.307  0.287  0.003  0.211  0.077 -0.360  0.073  0.639   \n",
       "expensive  -0.329 -0.601 -0.024 -0.068  0.003  0.261  0.068 -0.030 -0.067   \n",
       "healthy     0.214 -0.077 -0.192 -0.763 -0.288  0.178  0.350 -0.176  0.186   \n",
       "disgusting -0.375  0.140  0.089 -0.370  0.729  0.211  0.027  0.167  0.072   \n",
       "\n",
       "             PC10   PC11  \n",
       "yummy       0.110 -0.045  \n",
       "convenient  0.666  0.542  \n",
       "spicy       0.076 -0.142  \n",
       "fattening   0.005 -0.251  \n",
       "greasy     -0.009 -0.002  \n",
       "fast       -0.240 -0.339  \n",
       "cheap      -0.428  0.489  \n",
       "tasty      -0.079 -0.020  \n",
       "expensive  -0.454  0.490  \n",
       "healthy     0.038 -0.158  \n",
       "disgusting  0.290  0.041  "
      ]
     },
     "execution_count": 13,
     "metadata": {},
     "output_type": "execute_result"
    }
   ],
   "source": [
    "print(\"Standard Deviation:\\n\",SD.round(1))\n",
    "\n",
    "load = (pca.components_)\n",
    "i=0\n",
    "rot_matrix = MD_p.components_.T\n",
    "\n",
    "rot_df = pd.DataFrame(rot_matrix, index=MD.columns.values, columns=index)\n",
    "rot_df=round(-rot_df,3)\n",
    "rot_df\n",
    "\n",
    "\n"
   ]
  },
  {
   "cell_type": "code",
   "execution_count": 14,
   "metadata": {},
   "outputs": [
    {
     "data": {
      "text/html": [
       "<div>\n",
       "<style scoped>\n",
       "    .dataframe tbody tr th:only-of-type {\n",
       "        vertical-align: middle;\n",
       "    }\n",
       "\n",
       "    .dataframe tbody tr th {\n",
       "        vertical-align: top;\n",
       "    }\n",
       "\n",
       "    .dataframe thead th {\n",
       "        text-align: right;\n",
       "    }\n",
       "</style>\n",
       "<table border=\"1\" class=\"dataframe\">\n",
       "  <thead>\n",
       "    <tr style=\"text-align: right;\">\n",
       "      <th></th>\n",
       "      <th>PC1</th>\n",
       "      <th>PC2</th>\n",
       "      <th>PC3</th>\n",
       "      <th>PC4</th>\n",
       "      <th>PC5</th>\n",
       "      <th>PC6</th>\n",
       "      <th>PC7</th>\n",
       "      <th>PC8</th>\n",
       "      <th>PC9</th>\n",
       "      <th>PC10</th>\n",
       "      <th>PC11</th>\n",
       "    </tr>\n",
       "  </thead>\n",
       "  <tbody>\n",
       "    <tr>\n",
       "      <th>yummy</th>\n",
       "      <td>0.477</td>\n",
       "      <td>-0.364</td>\n",
       "      <td>0.304</td>\n",
       "      <td>-0.055</td>\n",
       "      <td>0.308</td>\n",
       "      <td>-0.171</td>\n",
       "      <td>0.281</td>\n",
       "      <td>-0.013</td>\n",
       "      <td>-0.572</td>\n",
       "      <td>0.110</td>\n",
       "      <td>-0.045</td>\n",
       "    </tr>\n",
       "    <tr>\n",
       "      <th>convenient</th>\n",
       "      <td>0.155</td>\n",
       "      <td>-0.016</td>\n",
       "      <td>0.063</td>\n",
       "      <td>0.142</td>\n",
       "      <td>-0.278</td>\n",
       "      <td>0.348</td>\n",
       "      <td>0.060</td>\n",
       "      <td>0.113</td>\n",
       "      <td>0.018</td>\n",
       "      <td>0.666</td>\n",
       "      <td>0.542</td>\n",
       "    </tr>\n",
       "    <tr>\n",
       "      <th>spicy</th>\n",
       "      <td>0.006</td>\n",
       "      <td>-0.019</td>\n",
       "      <td>0.037</td>\n",
       "      <td>-0.198</td>\n",
       "      <td>-0.071</td>\n",
       "      <td>0.355</td>\n",
       "      <td>-0.708</td>\n",
       "      <td>-0.376</td>\n",
       "      <td>-0.400</td>\n",
       "      <td>0.076</td>\n",
       "      <td>-0.142</td>\n",
       "    </tr>\n",
       "    <tr>\n",
       "      <th>fattening</th>\n",
       "      <td>-0.116</td>\n",
       "      <td>0.034</td>\n",
       "      <td>0.322</td>\n",
       "      <td>0.354</td>\n",
       "      <td>0.073</td>\n",
       "      <td>0.407</td>\n",
       "      <td>0.386</td>\n",
       "      <td>-0.590</td>\n",
       "      <td>0.161</td>\n",
       "      <td>0.005</td>\n",
       "      <td>-0.251</td>\n",
       "    </tr>\n",
       "    <tr>\n",
       "      <th>greasy</th>\n",
       "      <td>-0.304</td>\n",
       "      <td>0.064</td>\n",
       "      <td>0.802</td>\n",
       "      <td>-0.254</td>\n",
       "      <td>-0.361</td>\n",
       "      <td>-0.209</td>\n",
       "      <td>-0.036</td>\n",
       "      <td>0.138</td>\n",
       "      <td>0.003</td>\n",
       "      <td>-0.009</td>\n",
       "      <td>-0.002</td>\n",
       "    </tr>\n",
       "    <tr>\n",
       "      <th>fast</th>\n",
       "      <td>0.108</td>\n",
       "      <td>0.087</td>\n",
       "      <td>0.065</td>\n",
       "      <td>0.097</td>\n",
       "      <td>-0.108</td>\n",
       "      <td>0.595</td>\n",
       "      <td>0.087</td>\n",
       "      <td>0.628</td>\n",
       "      <td>-0.166</td>\n",
       "      <td>-0.240</td>\n",
       "      <td>-0.339</td>\n",
       "    </tr>\n",
       "    <tr>\n",
       "      <th>cheap</th>\n",
       "      <td>0.337</td>\n",
       "      <td>0.611</td>\n",
       "      <td>0.149</td>\n",
       "      <td>-0.119</td>\n",
       "      <td>0.129</td>\n",
       "      <td>0.103</td>\n",
       "      <td>0.040</td>\n",
       "      <td>-0.140</td>\n",
       "      <td>-0.076</td>\n",
       "      <td>-0.428</td>\n",
       "      <td>0.489</td>\n",
       "    </tr>\n",
       "    <tr>\n",
       "      <th>tasty</th>\n",
       "      <td>0.472</td>\n",
       "      <td>-0.307</td>\n",
       "      <td>0.287</td>\n",
       "      <td>0.003</td>\n",
       "      <td>0.211</td>\n",
       "      <td>0.077</td>\n",
       "      <td>-0.360</td>\n",
       "      <td>0.073</td>\n",
       "      <td>0.639</td>\n",
       "      <td>-0.079</td>\n",
       "      <td>-0.020</td>\n",
       "    </tr>\n",
       "    <tr>\n",
       "      <th>expensive</th>\n",
       "      <td>-0.329</td>\n",
       "      <td>-0.601</td>\n",
       "      <td>-0.024</td>\n",
       "      <td>-0.068</td>\n",
       "      <td>0.003</td>\n",
       "      <td>0.261</td>\n",
       "      <td>0.068</td>\n",
       "      <td>-0.030</td>\n",
       "      <td>-0.067</td>\n",
       "      <td>-0.454</td>\n",
       "      <td>0.490</td>\n",
       "    </tr>\n",
       "    <tr>\n",
       "      <th>healthy</th>\n",
       "      <td>0.214</td>\n",
       "      <td>-0.077</td>\n",
       "      <td>-0.192</td>\n",
       "      <td>-0.763</td>\n",
       "      <td>-0.288</td>\n",
       "      <td>0.178</td>\n",
       "      <td>0.350</td>\n",
       "      <td>-0.176</td>\n",
       "      <td>0.186</td>\n",
       "      <td>0.038</td>\n",
       "      <td>-0.158</td>\n",
       "    </tr>\n",
       "    <tr>\n",
       "      <th>disgusting</th>\n",
       "      <td>-0.375</td>\n",
       "      <td>0.140</td>\n",
       "      <td>0.089</td>\n",
       "      <td>-0.370</td>\n",
       "      <td>0.729</td>\n",
       "      <td>0.211</td>\n",
       "      <td>0.027</td>\n",
       "      <td>0.167</td>\n",
       "      <td>0.072</td>\n",
       "      <td>0.290</td>\n",
       "      <td>0.041</td>\n",
       "    </tr>\n",
       "  </tbody>\n",
       "</table>\n",
       "</div>"
      ],
      "text/plain": [
       "              PC1    PC2    PC3    PC4    PC5    PC6    PC7    PC8    PC9  \\\n",
       "yummy       0.477 -0.364  0.304 -0.055  0.308 -0.171  0.281 -0.013 -0.572   \n",
       "convenient  0.155 -0.016  0.063  0.142 -0.278  0.348  0.060  0.113  0.018   \n",
       "spicy       0.006 -0.019  0.037 -0.198 -0.071  0.355 -0.708 -0.376 -0.400   \n",
       "fattening  -0.116  0.034  0.322  0.354  0.073  0.407  0.386 -0.590  0.161   \n",
       "greasy     -0.304  0.064  0.802 -0.254 -0.361 -0.209 -0.036  0.138  0.003   \n",
       "fast        0.108  0.087  0.065  0.097 -0.108  0.595  0.087  0.628 -0.166   \n",
       "cheap       0.337  0.611  0.149 -0.119  0.129  0.103  0.040 -0.140 -0.076   \n",
       "tasty       0.472 -0.307  0.287  0.003  0.211  0.077 -0.360  0.073  0.639   \n",
       "expensive  -0.329 -0.601 -0.024 -0.068  0.003  0.261  0.068 -0.030 -0.067   \n",
       "healthy     0.214 -0.077 -0.192 -0.763 -0.288  0.178  0.350 -0.176  0.186   \n",
       "disgusting -0.375  0.140  0.089 -0.370  0.729  0.211  0.027  0.167  0.072   \n",
       "\n",
       "             PC10   PC11  \n",
       "yummy       0.110 -0.045  \n",
       "convenient  0.666  0.542  \n",
       "spicy       0.076 -0.142  \n",
       "fattening   0.005 -0.251  \n",
       "greasy     -0.009 -0.002  \n",
       "fast       -0.240 -0.339  \n",
       "cheap      -0.428  0.489  \n",
       "tasty      -0.079 -0.020  \n",
       "expensive  -0.454  0.490  \n",
       "healthy     0.038 -0.158  \n",
       "disgusting  0.290  0.041  "
      ]
     },
     "execution_count": 14,
     "metadata": {},
     "output_type": "execute_result"
    }
   ],
   "source": [
    "rot_df\n"
   ]
  },
  {
   "cell_type": "code",
   "execution_count": 15,
   "metadata": {
    "scrolled": true
   },
   "outputs": [
    {
     "name": "stderr",
     "output_type": "stream",
     "text": [
      "findfont: Font family ['Arial'] not found. Falling back to DejaVu Sans.\n"
     ]
    },
    {
     "data": {
      "image/png": "[encoded data removed]",
      "text/plain": [
       "<Figure size 720x720 with 1 Axes>"
      ]
     },
     "metadata": {
      "needs_background": "light"
     },
     "output_type": "display_data"
    }
   ],
   "source": [
    "## Plotting the cluster between the pc1 and pc2 for all the features\n",
    "cluster.biplot(cscore=MD_pca, loadings=-load, labels=data.columns.values,var1=0,var2=0, show=True, dim=(10, 10))"
   ]
  },
  {
   "cell_type": "markdown",
   "metadata": {},
   "source": [
    "## Segmenting the samples based on clusters"
   ]
  },
  {
   "cell_type": "code",
   "execution_count": 16,
   "metadata": {},
   "outputs": [
    {
     "data": {
      "image/png": "[encoded data removed]",
      "text/plain": [
       "<Figure size 432x288 with 1 Axes>"
      ]
     },
     "metadata": {
      "needs_background": "light"
     },
     "output_type": "display_data"
    }
   ],
   "source": [
    "\n",
    "np.random.seed(1234)\n",
    "\n",
    "nrep = 10\n",
    "\n",
    "num_segments = range(1, 9)\n",
    "within_cluster_distances = []\n",
    "MD_km28 = {}\n",
    "\n",
    "for k in num_segments:\n",
    "    # doing Kmeans clustering for  all the segments\n",
    "    kmeans = KMeans(n_clusters=k, n_init=nrep, random_state=1234)\n",
    "    kmeans.fit(MD)\n",
    "    within_cluster_distances.append((kmeans.inertia_))\n",
    "    MD_km28[str(k)] = kmeans\n",
    "\n",
    "plt.bar(num_segments, within_cluster_distances)\n",
    "plt.xlabel(\"Number of segments\")\n",
    "plt.ylabel(\"Sum of within-cluster distances\")\n",
    "plt.title(\"Segmentation Results\")\n",
    "plt.show()\n",
    "\n"
   ]
  },
  {
   "cell_type": "code",
   "execution_count": 17,
   "metadata": {},
   "outputs": [
    {
     "data": {
      "image/png": "[encoded data removed]",
      "text/plain": [
       "<Figure size 432x288 with 1 Axes>"
      ]
     },
     "metadata": {
      "needs_background": "light"
     },
     "output_type": "display_data"
    }
   ],
   "source": [
    "\n",
    "np.random.seed(1234) \n",
    "nboot = 100  \n",
    "nrep = 10  \n",
    "\n",
    "bootstrap_samples = []\n",
    "for _ in range(nboot):\n",
    "    bootstrap_sample = resample(MD.values, random_state=1234) \n",
    "    bootstrap_samples.append(bootstrap_sample)\n",
    "\n",
    "adjusted_rand_index = []\n",
    "num_segments = range(2, 9)\n",
    "for k in num_segments:\n",
    "    stability_scores = []\n",
    "    for bootstrap_sample in bootstrap_samples:\n",
    "        kmeans = KMeans(n_clusters=k, n_init=nrep, random_state=1234)  \n",
    "        kmeans.fit(bootstrap_sample)\n",
    "        cluster_labels = kmeans.predict(bootstrap_sample)\n",
    "        true_labels = kmeans.predict(MD.values)\n",
    "        stability_score = adjusted_rand_score(true_labels, cluster_labels)\n",
    "        stability_scores.append(stability_score)\n",
    "    adjusted_rand_index.append(stability_scores)\n",
    "\n",
    "# Transpose the adjusted_rand_index list\n",
    "adjusted_rand_index = np.array(adjusted_rand_index).T\n",
    "\n",
    "# Create boxplot of adjusted Rand index\n",
    "plt.boxplot(adjusted_rand_index, labels=num_segments, whis=10)\n",
    "plt.xlabel(\"Number of segments\")\n",
    "plt.ylabel(\"Adjusted Rand Index\")\n",
    "plt.title(\"Bootstrap Flexclust\")\n",
    "plt.show()\n"
   ]
  },
  {
   "cell_type": "code",
   "execution_count": 18,
   "metadata": {},
   "outputs": [
    {
     "data": {
      "image/png": "[encoded data removed]",
      "text/plain": [
       "<Figure size 864x576 with 4 Axes>"
      ]
     },
     "metadata": {
      "needs_background": "light"
     },
     "output_type": "display_data"
    }
   ],
   "source": [
    "\n",
    "range_values = (0, 1)\n",
    "num_bins = 10\n",
    "max_frequency = 200\n",
    "\n",
    "\n",
    "fig, axs = plt.subplots(2, 2, figsize=(12, 8))\n",
    "\n",
    "\n",
    "for i in range(1, 5):\n",
    "    labels = MD_km28[str(i)].predict(MD)\n",
    "    similarities = MD_km28[str(i)].transform(MD).min(axis=1)\n",
    "    row = (i - 1) // 2\n",
    "    col = (i - 1) % 2\n",
    "\n",
    "    axs[row, col].hist(similarities, bins=num_bins, range=range_values)\n",
    "    axs[row, col].set_xlabel('Similarity')\n",
    "    axs[row, col].set_ylabel('Frequency')\n",
    "    axs[row, col].set_title('cluster {}'.format(i))\n",
    "\n",
    "    axs[row, col].set_xlim(range_values)\n",
    "    axs[row, col].set_ylim(0, max_frequency)\n",
    "\n",
    "\n",
    "    axs[row, col].set_xticks([0, 0.2, 0.4, 0.6, 0.8, 1.0])\n",
    "\n",
    "plt.tight_layout()\n",
    "plt.show()\n"
   ]
  },
  {
   "cell_type": "code",
   "execution_count": 19,
   "metadata": {},
   "outputs": [
    {
     "data": {
      "image/png": "[encoded data removed]",
      "text/plain": [
       "<Figure size 576x432 with 1 Axes>"
      ]
     },
     "metadata": {
      "needs_background": "light"
     },
     "output_type": "display_data"
    }
   ],
   "source": [
    "\n",
    "num_segments = range(2, 9)\n",
    "\n",
    "segment_stability = []\n",
    "for segment in range(2, 9):\n",
    "    labels_segment = MD_km28[str(segment)].predict(MD)\n",
    "    segment_stability.append(labels_segment)\n",
    "\n",
    "plt.figure(figsize=(8, 6))\n",
    "for i, segment in enumerate(range(2, 9)):\n",
    "    plt.plot(num_segments, [np.mean(segment_stability[i] == labels) for labels in segment_stability], marker='o', label=f'Segment {segment}')\n",
    "\n",
    "plt.xlabel('Number of Segments')\n",
    "plt.ylabel('Segment Level Stability')\n",
    "plt.title('Segment Level Stability Across Solutions (SLSA) Plot')\n",
    "plt.xticks(num_segments)\n",
    "plt.legend()\n",
    "plt.grid(True)\n",
    "\n",
    "plt.show()\n"
   ]
  },
  {
   "cell_type": "code",
   "execution_count": 20,
   "metadata": {},
   "outputs": [
    {
     "data": {
      "image/png": "[encoded data removed]",
      "text/plain": [
       "<Figure size 432x288 with 1 Axes>"
      ]
     },
     "metadata": {
      "needs_background": "light"
     },
     "output_type": "display_data"
    }
   ],
   "source": [
    "\n",
    "segment_solutions = [\"2\", \"3\", \"4\", \"5\"]\n",
    "segment_labels = {}\n",
    "segment_similarities = {}\n",
    "\n",
    "for segment in segment_solutions:\n",
    "    segment_labels[segment] = MD_km28[segment].predict(MD)\n",
    "    segment_similarities[segment] = MD_km28[segment].transform(MD).min(axis=1)\n",
    "\n",
    "segment_stability_values = []\n",
    "for segment in segment_solutions:\n",
    "    similarities = segment_similarities[segment]\n",
    "    normalized_similarities = similarities / np.max(similarities) \n",
    "    segment_stability_values.append(normalized_similarities)\n",
    "\n",
    "plt.boxplot(segment_stability_values, whis=1.5)\n",
    "plt.xlabel(\"Segment Number\")\n",
    "plt.ylabel(\"Segment Stability\")\n",
    "plt.xticks(range(1, len(segment_solutions) + 1), segment_solutions)\n",
    "plt.ylim(0, 1)\n",
    "plt.title(\"Segment Level Stability within Solutions\")\n",
    "\n",
    "plt.show()\n"
   ]
  },
  {
   "cell_type": "code",
   "execution_count": 21,
   "metadata": {},
   "outputs": [
    {
     "name": "stderr",
     "output_type": "stream",
     "text": [
      "/home/mat/.local/lib/python3.10/site-packages/sklearn/cluster/_kmeans.py:1416: FutureWarning: The default value of `n_init` will change from 10 to 'auto' in 1.4. Set the value of `n_init` explicitly to suppress the warning\n",
      "  super()._check_params_vs_input(X, default_n_init=10)\n",
      "/home/mat/.local/lib/python3.10/site-packages/sklearn/cluster/_kmeans.py:1416: FutureWarning: The default value of `n_init` will change from 10 to 'auto' in 1.4. Set the value of `n_init` explicitly to suppress the warning\n",
      "  super()._check_params_vs_input(X, default_n_init=10)\n",
      "/home/mat/.local/lib/python3.10/site-packages/sklearn/cluster/_kmeans.py:1416: FutureWarning: The default value of `n_init` will change from 10 to 'auto' in 1.4. Set the value of `n_init` explicitly to suppress the warning\n",
      "  super()._check_params_vs_input(X, default_n_init=10)\n",
      "/home/mat/.local/lib/python3.10/site-packages/sklearn/cluster/_kmeans.py:1416: FutureWarning: The default value of `n_init` will change from 10 to 'auto' in 1.4. Set the value of `n_init` explicitly to suppress the warning\n",
      "  super()._check_params_vs_input(X, default_n_init=10)\n",
      "/home/mat/.local/lib/python3.10/site-packages/sklearn/cluster/_kmeans.py:1416: FutureWarning: The default value of `n_init` will change from 10 to 'auto' in 1.4. Set the value of `n_init` explicitly to suppress the warning\n",
      "  super()._check_params_vs_input(X, default_n_init=10)\n",
      "/home/mat/.local/lib/python3.10/site-packages/sklearn/cluster/_kmeans.py:1416: FutureWarning: The default value of `n_init` will change from 10 to 'auto' in 1.4. Set the value of `n_init` explicitly to suppress the warning\n",
      "  super()._check_params_vs_input(X, default_n_init=10)\n",
      "/home/mat/.local/lib/python3.10/site-packages/sklearn/cluster/_kmeans.py:1416: FutureWarning: The default value of `n_init` will change from 10 to 'auto' in 1.4. Set the value of `n_init` explicitly to suppress the warning\n",
      "  super()._check_params_vs_input(X, default_n_init=10)\n"
     ]
    },
    {
     "name": "stdout",
     "output_type": "stream",
     "text": [
      "   iter  converged  k  k0       logLik          AIC          BIC          ICL\n",
      "0     8       True  2   2 -2145.503727  4295.007454  4305.570225  4304.904547\n",
      "1     9       True  3   3 -1818.717659  3643.435318  3659.279475  3658.209672\n",
      "2     7       True  4   4 -1602.986015  3213.972030  3235.097572  3233.753684\n",
      "3    13       True  5   5 -1435.324786  2880.649571  2907.056500  2905.465473\n",
      "4    10       True  6   6 -1332.150483  2676.300966  2707.989280  2706.201149\n",
      "5    10       True  7   7 -1249.233890  2512.467780  2549.437480  2547.530062\n",
      "6    10       True  8   8 -1191.580948  2399.161896  2441.412982  2439.379225\n"
     ]
    }
   ],
   "source": [
    "from scipy.stats import entropy\n",
    "\n",
    "np.random.seed(1234)\n",
    "k_values = range(2, 9)\n",
    "MD_m28 = []\n",
    "\n",
    "for k in k_values:\n",
    "    model = KMeans(n_clusters=k, random_state=1234)\n",
    "    model.fit(MD.values)\n",
    "    iter_val = model.n_iter_\n",
    "    converged = True\n",
    "    k_val = k\n",
    "    k0_val = k\n",
    "    log_likelihood = -model.inertia_\n",
    "    n_samples, _ = MD.shape\n",
    "    aic = -2 * log_likelihood + 2 * k\n",
    "    bic = -2 * log_likelihood + np.log(n_samples) * k\n",
    "    labels = model.labels_\n",
    "    counts = np.bincount(labels)\n",
    "    probs = counts / float(counts.sum())\n",
    "    class_entropy = entropy(probs)\n",
    "    icl = bic - class_entropy\n",
    "    \n",
    "    MD_m28.append((iter_val, converged, k_val, k0_val, log_likelihood, aic, bic, icl))\n",
    "MD_m28 = pd.DataFrame(MD_m28, columns=['iter', 'converged', 'k', 'k0', 'logLik', 'AIC', 'BIC', 'ICL'])\n",
    "\n",
    "print(MD_m28)\n"
   ]
  },
  {
   "cell_type": "code",
   "execution_count": null,
   "metadata": {},
   "outputs": [],
   "source": [
    "num_segments = MD_m28[\"k\"]\n",
    "AIC_values = MD_m28[\"AIC\"]\n",
    "BIC_values = MD_m28[\"BIC\"]\n",
    "ICL_values = MD_m28[\"ICL\"]\n",
    "\n",
    "plt.plot(num_segments, AIC_values, marker='o', label='AIC')\n",
    "plt.plot(num_segments, BIC_values, marker='o', label='BIC')\n",
    "plt.plot(num_segments, ICL_values, marker='o', label='ICL')\n",
    "\n",
    "plt.xlabel('Number of Segments')\n",
    "plt.ylabel('Value of Information Criteria')\n",
    "plt.title('Information Criteria (AIC, BIC, ICL)')\n",
    "plt.legend()\n",
    "plt.grid(True)\n",
    "\n",
    "plt.show()\n"
   ]
  },
  {
   "cell_type": "code",
   "execution_count": 24,
   "metadata": {},
   "outputs": [
    {
     "name": "stderr",
     "output_type": "stream",
     "text": [
      "/home/mat/.local/lib/python3.10/site-packages/sklearn/cluster/_kmeans.py:1416: FutureWarning: The default value of `n_init` will change from 10 to 'auto' in 1.4. Set the value of `n_init` explicitly to suppress the warning\n",
      "  super()._check_params_vs_input(X, default_n_init=10)\n"
     ]
    },
    {
     "name": "stdout",
     "output_type": "stream",
     "text": [
      "mixture    0    1    2    3\n",
      "kmeans                     \n",
      "0         99    5  253    7\n",
      "1          0  211   24    5\n",
      "2        500    0    0   33\n",
      "3         22   38    0  256\n",
      "kmeans   0   1   2   3\n",
      "kmeans                \n",
      "0       29  10  17  23\n",
      "1       18   8  12  11\n",
      "2       45  14  31  19\n",
      "3       29   5  15  15\n"
     ]
    },
    {
     "name": "stderr",
     "output_type": "stream",
     "text": [
      "/home/mat/.local/lib/python3.10/site-packages/sklearn/cluster/_kmeans.py:1416: FutureWarning: The default value of `n_init` will change from 10 to 'auto' in 1.4. Set the value of `n_init` explicitly to suppress the warning\n",
      "  super()._check_params_vs_input(X, default_n_init=10)\n"
     ]
    }
   ],
   "source": [
    "from sklearn.mixture import GaussianMixture\n",
    "k = 4\n",
    "kmeans = KMeans(n_clusters=k, random_state=1234)\n",
    "kmeans.fit(MD)\n",
    "kmeans_clusters = kmeans.predict(MD)\n",
    "\n",
    "gmm = GaussianMixture(n_components=k, random_state=1234)\n",
    "gmm.fit(MD)\n",
    "gmm_clusters = gmm.predict(MD)\n",
    "\n",
    "results = pd.DataFrame({'kmeans': kmeans_clusters, 'mixture': gmm_clusters})\n",
    "\n",
    "MD_m4 = MD[results['mixture'] == 3] \n",
    "\n",
    "k4_m4 = KMeans(n_clusters=k, random_state=1234)\n",
    "k4_m4.fit(MD_m4)\n",
    "k4_m4_clusters = k4_m4.predict(MD_m4)\n",
    "\n",
    "results_m4 = pd.DataFrame({'kmeans': k4_m4_clusters, 'mixture': 3})\n",
    "\n",
    "print(pd.crosstab(results['kmeans'], results['mixture']))\n",
    "print(pd.crosstab(results['kmeans'], results_m4['kmeans']))\n"
   ]
  },
  {
   "cell_type": "code",
   "execution_count": 25,
   "metadata": {},
   "outputs": [
    {
     "name": "stdout",
     "output_type": "stream",
     "text": [
      "Log-likelihood for MD.m4a: 9.456781748071887\n",
      "Log-likelihood for MD.m4: 3.6427464011765807\n"
     ]
    }
   ],
   "source": [
    "from sklearn.mixture import GaussianMixture\n",
    "import numpy as np\n",
    "\n",
    "gmm_m4a = GaussianMixture(n_components=4)\n",
    "gmm_m4a.fit(MD)\n",
    "\n",
    "log_likelihood_m4a = gmm_m4a.score(MD)\n",
    "\n",
    "gmm_m4 = GaussianMixture(n_components=4)\n",
    "gmm_m4.fit(MD)\n",
    "\n",
    "log_likelihood_m4 = gmm_m4.score(MD)\n",
    "\n",
    "print(\"Log-likelihood for MD.m4a:\", log_likelihood_m4a)\n",
    "print(\"Log-likelihood for MD.m4:\", log_likelihood_m4)\n"
   ]
  },
  {
   "cell_type": "code",
   "execution_count": 26,
   "metadata": {},
   "outputs": [
    {
     "name": "stdout",
     "output_type": "stream",
     "text": [
      "Like\n",
      "-1               58\n",
      "-2               59\n",
      "-4               71\n",
      "-3               73\n",
      "I love it!+5    143\n",
      "I hate it!-5    152\n",
      "1               152\n",
      "4               160\n",
      "0               169\n",
      "2               187\n",
      "3               229\n",
      "Name: count, dtype: int64\n"
     ]
    },
    {
     "name": "stderr",
     "output_type": "stream",
     "text": [
      "/tmp/ipykernel_821650/1383621504.py:1: FutureWarning: pandas.value_counts is deprecated and will be removed in a future version. Use pd.Series(obj).value_counts() instead.\n",
      "  like_counts = pd.value_counts(data['Like'])\n"
     ]
    }
   ],
   "source": [
    "\n",
    "like_counts = pd.value_counts(data['Like'])\n",
    "reversed_counts = like_counts.iloc[::-1]\n",
    "\n",
    "print(reversed_counts)\n",
    "\n"
   ]
  },
  {
   "cell_type": "code",
   "execution_count": 27,
   "metadata": {},
   "outputs": [
    {
     "name": "stdout",
     "output_type": "stream",
     "text": [
      "Like.n\n",
      " 3.0    229\n",
      " 2.0    187\n",
      " 0.0    169\n",
      " 4.0    160\n",
      " 1.0    152\n",
      "-3.0     73\n",
      "-4.0     71\n",
      "-2.0     59\n",
      "-1.0     58\n",
      "Name: count, dtype: int64\n"
     ]
    }
   ],
   "source": [
    "# Define a mapping of string values to numeric codes\n",
    "like_mapping = {\n",
    "    'I HATE IT!-5': -5,\n",
    "    '-4': -4,\n",
    "    '-3': -3,\n",
    "    '-2': -2,\n",
    "    '-1': -1,\n",
    "    '0': 0,\n",
    "    '1': 1,\n",
    "    '2': 2,\n",
    "    '3': 3,\n",
    "    '4': 4,\n",
    "    'I LOVE IT!+5': 5\n",
    "}\n",
    "\n",
    "data['Like.n'] = data['Like'].map(like_mapping)\n",
    "\n",
    "\n",
    "like_n_counts = data['Like.n'].value_counts()\n",
    "\n",
    "\n",
    "print(like_n_counts)\n"
   ]
  },
  {
   "cell_type": "code",
   "execution_count": 28,
   "metadata": {},
   "outputs": [
    {
     "name": "stdout",
     "output_type": "stream",
     "text": [
      "[[1. 0. 1. ... 1. 0. 0.]\n",
      " [1. 1. 1. ... 1. 0. 0.]\n",
      " [1. 0. 1. ... 1. 1. 0.]\n",
      " ...\n",
      " [1. 1. 1. ... 1. 0. 0.]\n",
      " [1. 1. 1. ... 0. 1. 0.]\n",
      " [1. 0. 1. ... 1. 0. 1.]]\n"
     ]
    }
   ],
   "source": [
    "from patsy import dmatrices\n",
    "\n",
    "independent_vars = data.columns[0:11] \n",
    "\n",
    "formula_str = ' + '.join(independent_vars)\n",
    "\n",
    "formula_str = 'Like ~ ' + formula_str\n",
    "\n",
    "\n",
    "f = dmatrices(formula_str, data=data)[1]\n",
    "\n",
    "print(f)\n"
   ]
  },
  {
   "cell_type": "code",
   "execution_count": 29,
   "metadata": {},
   "outputs": [
    {
     "name": "stdout",
     "output_type": "stream",
     "text": [
      "GaussianMixture(n_components=2, n_init=10, verbose=False)\n",
      "Cluster sizes:\n",
      "1: 985\n",
      "2: 468\n"
     ]
    }
   ],
   "source": [
    "from sklearn.mixture import GaussianMixture\n",
    "from patsy import dmatrix\n",
    "np.random.seed(1234)\n",
    "\n",
    "X = dmatrix(f.design_info, data=data)\n",
    "y = dmatrix('Like', data=data)\n",
    "\n",
    "n_components = 2\n",
    "n_init = 10\n",
    "verbose = False\n",
    "n_rep=10\n",
    "\n",
    "model = GaussianMixture(n_components=n_components, n_init=n_init, verbose=verbose)\n",
    "MD_reg2 = model.fit(X, y)\n",
    "\n",
    "print(MD_reg2)\n",
    "cluster_sizes = np.bincount(model.predict(X))\n",
    "\n",
    "print(\"Cluster sizes:\")\n",
    "for i, size in enumerate(cluster_sizes):\n",
    "    print(f\"{i+1}: {size}\")\n"
   ]
  },
  {
   "cell_type": "markdown",
   "metadata": {},
   "source": [
    "----------------------------------------"
   ]
  },
  {
   "cell_type": "markdown",
   "metadata": {},
   "source": [
    "-------------------------------------------\n"
   ]
  },
  {
   "cell_type": "code",
   "execution_count": 30,
   "metadata": {},
   "outputs": [
    {
     "data": {
      "image/png": "[encoded data removed]",
      "text/plain": [
       "<Figure size 720x432 with 4 Axes>"
      ]
     },
     "metadata": {
      "needs_background": "light"
     },
     "output_type": "display_data"
    }
   ],
   "source": [
    "import pandas as pd\n",
    "import matplotlib.pyplot as plt\n",
    "\n",
    "kmeans = MD_km28['4']\n",
    "\n",
    "labels = kmeans.labels_\n",
    "\n",
    "MD_mean = MD.groupby(labels).mean()\n",
    "\n",
    "fig, axs = plt.subplots(2, 2, figsize=(10, 6))\n",
    "axs[0, 0].barh(range(MD_mean.shape[1]), MD_mean.iloc[0])\n",
    "axs[0, 0].set_title('Component 1')\n",
    "axs[0, 1].barh(range(MD_mean.shape[1]), MD_mean.iloc[1])\n",
    "axs[0, 1].set_title('Component 2')\n",
    "axs[1, 0].barh(range(MD_mean.shape[1]), MD_mean.iloc[2])\n",
    "axs[1, 0].set_title('Component 3')\n",
    "axs[1, 1].barh(range(MD_mean.shape[1]), MD_mean.iloc[3])\n",
    "axs[1, 1].set_title('Component 4')\n",
    "\n",
    "for ax in axs.flat:\n",
    "    ax.set(ylabel='Variable', xlabel='Proportion')\n",
    "    ax.set_yticks(range(MD_mean.shape[1]))\n",
    "    ax.set_yticklabels(MD.columns)\n",
    "\n",
    "for ax in axs.flat:\n",
    "    ax.label_outer()\n",
    "\n",
    "fig.suptitle('Segment Profiles')\n",
    "\n",
    "fig.tight_layout()\n",
    "\n",
    "plt.show()\n",
    "\n"
   ]
  },
  {
   "cell_type": "code",
   "execution_count": 31,
   "metadata": {},
   "outputs": [
    {
     "name": "stderr",
     "output_type": "stream",
     "text": [
      "/home/mat/.local/lib/python3.10/site-packages/sklearn/cluster/_kmeans.py:1416: FutureWarning: The default value of `n_init` will change from 10 to 'auto' in 1.4. Set the value of `n_init` explicitly to suppress the warning\n",
      "  super()._check_params_vs_input(X, default_n_init=10)\n"
     ]
    },
    {
     "data": {
      "image/png": "[encoded data removed]",
      "text/plain": [
       "<Figure size 432x288 with 1 Axes>"
      ]
     },
     "metadata": {
      "needs_background": "light"
     },
     "output_type": "display_data"
    }
   ],
   "source": [
    "from sklearn.cluster import KMeans\n",
    "from sklearn.decomposition import PCA\n",
    "import matplotlib.pyplot as plt\n",
    "\n",
    "kmeans = KMeans(n_clusters=4)\n",
    "kmeans.fit(MD)\n",
    "\n",
    "pca = PCA(n_components=2)\n",
    "MD_pca = pca.fit_transform(MD)\n",
    "\n",
    "fig, ax = plt.subplots()\n",
    "\n",
    "ax.scatter(MD_pca[:, 0], MD_pca[:, 1])\n",
    "ax.set_xlabel('principal component 1')\n",
    "ax.set_ylabel('principal component 2')\n",
    "plt.show()\n",
    "\n"
   ]
  },
  {
   "cell_type": "code",
   "execution_count": 32,
   "metadata": {},
   "outputs": [
    {
     "name": "stderr",
     "output_type": "stream",
     "text": [
      "/home/mat/.local/lib/python3.10/site-packages/sklearn/cluster/_kmeans.py:1416: FutureWarning: The default value of `n_init` will change from 10 to 'auto' in 1.4. Set the value of `n_init` explicitly to suppress the warning\n",
      "  super()._check_params_vs_input(X, default_n_init=10)\n"
     ]
    },
    {
     "data": {
      "image/png": "[encoded data removed]",
      "text/plain": [
       "<Figure size 504x360 with 3 Axes>"
      ]
     },
     "metadata": {
      "needs_background": "light"
     },
     "output_type": "display_data"
    }
   ],
   "source": [
    "from statsmodels.graphics.mosaicplot import mosaic\n",
    "from itertools import product\n",
    "#Label encoding for categorical - Converting 11 cols with yes/no\n",
    "\n",
    "from sklearn.preprocessing import LabelEncoder\n",
    "def labelling(x):\n",
    "    data1[x] = LabelEncoder().fit_transform(data1[x])\n",
    "    return data1\n",
    "\n",
    "cat = ['yummy', 'convenient', 'spicy', 'fattening', 'greasy', 'fast', 'cheap',\n",
    "       'tasty', 'expensive', 'healthy', 'disgusting']\n",
    "\n",
    "for i in cat:\n",
    "    labelling(i)\n",
    "data1\n",
    "df_eleven = data1.loc[:,cat]\n",
    "df_eleven\n",
    "kmeans = KMeans(n_clusters=4, init='k-means++', random_state=0).fit(df_eleven)\n",
    "data1['cluster_num'] = kmeans.labels_ \n",
    "crosstab =pd.crosstab(data1['cluster_num'],data1['Like'])\n",
    "#Reordering cols\n",
    "data1\n",
    "crosstab = crosstab[['I hate it!-5','-4','-3','-2','-1','0','1','2','3','4','I love it!+5']]\n",
    "crosstab \n",
    "plt.rcParams['figure.figsize'] = (7,5)\n",
    "mosaic(crosstab.stack())\n",
    "plt.show()"
   ]
  },
  {
   "cell_type": "code",
   "execution_count": 33,
   "metadata": {},
   "outputs": [
    {
     "data": {
      "image/png": "[encoded data removed]",
      "text/plain": [
       "<Figure size 504x360 with 3 Axes>"
      ]
     },
     "metadata": {
      "needs_background": "light"
     },
     "output_type": "display_data"
    }
   ],
   "source": [
    "from statsmodels.graphics.mosaicplot import mosaic\n",
    "\n",
    "MD_k4=MD_km28['4']\n",
    "k4 = MD_k4.labels_\n",
    "\n",
    "ct = pd.crosstab(k4, data['Gender'])\n",
    "ct\n",
    "mosaic(ct.stack(),gap=0.01)\n",
    "\n",
    "plt.show()"
   ]
  },
  {
   "cell_type": "code",
   "execution_count": 34,
   "metadata": {},
   "outputs": [
    {
     "data": {
      "image/png": "[encoded data removed]",
      "text/plain": [
       "<Figure size 504x360 with 1 Axes>"
      ]
     },
     "metadata": {
      "needs_background": "light"
     },
     "output_type": "display_data"
    }
   ],
   "source": [
    "df = pd.DataFrame({'Segment': k4, 'Age': data['Age']})\n",
    "\n",
    "df.boxplot(by='Segment', column='Age')\n",
    "plt.title('Parallel box-and-whisker plot of age by segment')\n",
    "plt.suptitle('')\n",
    "plt.show()\n"
   ]
  },
  {
   "cell_type": "markdown",
   "metadata": {},
   "source": [
    "-----------------------------------------"
   ]
  },
  {
   "cell_type": "code",
   "execution_count": 35,
   "metadata": {},
   "outputs": [
    {
     "data": {
      "text/html": [
       "<div>\n",
       "<style scoped>\n",
       "    .dataframe tbody tr th:only-of-type {\n",
       "        vertical-align: middle;\n",
       "    }\n",
       "\n",
       "    .dataframe tbody tr th {\n",
       "        vertical-align: top;\n",
       "    }\n",
       "\n",
       "    .dataframe thead th {\n",
       "        text-align: right;\n",
       "    }\n",
       "</style>\n",
       "<table border=\"1\" class=\"dataframe\">\n",
       "  <thead>\n",
       "    <tr style=\"text-align: right;\">\n",
       "      <th></th>\n",
       "      <th>cluster_num</th>\n",
       "      <th>VisitFrequency</th>\n",
       "    </tr>\n",
       "  </thead>\n",
       "  <tbody>\n",
       "    <tr>\n",
       "      <th>0</th>\n",
       "      <td>0</td>\n",
       "      <td>2.809061</td>\n",
       "    </tr>\n",
       "    <tr>\n",
       "      <th>1</th>\n",
       "      <td>1</td>\n",
       "      <td>2.584483</td>\n",
       "    </tr>\n",
       "    <tr>\n",
       "      <th>2</th>\n",
       "      <td>2</td>\n",
       "      <td>2.540123</td>\n",
       "    </tr>\n",
       "    <tr>\n",
       "      <th>3</th>\n",
       "      <td>3</td>\n",
       "      <td>2.679167</td>\n",
       "    </tr>\n",
       "  </tbody>\n",
       "</table>\n",
       "</div>"
      ],
      "text/plain": [
       "   cluster_num  VisitFrequency\n",
       "0            0        2.809061\n",
       "1            1        2.584483\n",
       "2            2        2.540123\n",
       "3            3        2.679167"
      ]
     },
     "execution_count": 35,
     "metadata": {},
     "output_type": "execute_result"
    }
   ],
   "source": [
    "data1['VisitFrequency'] = LabelEncoder().fit_transform(data1['VisitFrequency'])\n",
    "visit = data1.groupby('cluster_num')['VisitFrequency'].mean()\n",
    "visit = visit.to_frame().reset_index()\n",
    "visit"
   ]
  },
  {
   "cell_type": "code",
   "execution_count": 36,
   "metadata": {},
   "outputs": [
    {
     "data": {
      "text/html": [
       "<div>\n",
       "<style scoped>\n",
       "    .dataframe tbody tr th:only-of-type {\n",
       "        vertical-align: middle;\n",
       "    }\n",
       "\n",
       "    .dataframe tbody tr th {\n",
       "        vertical-align: top;\n",
       "    }\n",
       "\n",
       "    .dataframe thead th {\n",
       "        text-align: right;\n",
       "    }\n",
       "</style>\n",
       "<table border=\"1\" class=\"dataframe\">\n",
       "  <thead>\n",
       "    <tr style=\"text-align: right;\">\n",
       "      <th></th>\n",
       "      <th>cluster_num</th>\n",
       "      <th>Like</th>\n",
       "    </tr>\n",
       "  </thead>\n",
       "  <tbody>\n",
       "    <tr>\n",
       "      <th>0</th>\n",
       "      <td>0</td>\n",
       "      <td>4.365696</td>\n",
       "    </tr>\n",
       "    <tr>\n",
       "      <th>1</th>\n",
       "      <td>1</td>\n",
       "      <td>6.851724</td>\n",
       "    </tr>\n",
       "    <tr>\n",
       "      <th>2</th>\n",
       "      <td>2</td>\n",
       "      <td>6.385802</td>\n",
       "    </tr>\n",
       "    <tr>\n",
       "      <th>3</th>\n",
       "      <td>3</td>\n",
       "      <td>5.270833</td>\n",
       "    </tr>\n",
       "  </tbody>\n",
       "</table>\n",
       "</div>"
      ],
      "text/plain": [
       "   cluster_num      Like\n",
       "0            0  4.365696\n",
       "1            1  6.851724\n",
       "2            2  6.385802\n",
       "3            3  5.270833"
      ]
     },
     "execution_count": 36,
     "metadata": {},
     "output_type": "execute_result"
    }
   ],
   "source": [
    "#Like\n",
    "data1['Like'] = LabelEncoder().fit_transform(data1['Like'])\n",
    "Like = data1.groupby('cluster_num')['Like'].mean()\n",
    "Like = Like.to_frame().reset_index()\n",
    "Like"
   ]
  },
  {
   "cell_type": "code",
   "execution_count": 37,
   "metadata": {},
   "outputs": [
    {
     "data": {
      "text/html": [
       "<div>\n",
       "<style scoped>\n",
       "    .dataframe tbody tr th:only-of-type {\n",
       "        vertical-align: middle;\n",
       "    }\n",
       "\n",
       "    .dataframe tbody tr th {\n",
       "        vertical-align: top;\n",
       "    }\n",
       "\n",
       "    .dataframe thead th {\n",
       "        text-align: right;\n",
       "    }\n",
       "</style>\n",
       "<table border=\"1\" class=\"dataframe\">\n",
       "  <thead>\n",
       "    <tr style=\"text-align: right;\">\n",
       "      <th></th>\n",
       "      <th>cluster_num</th>\n",
       "      <th>Gender</th>\n",
       "    </tr>\n",
       "  </thead>\n",
       "  <tbody>\n",
       "    <tr>\n",
       "      <th>0</th>\n",
       "      <td>0</td>\n",
       "      <td>0.407767</td>\n",
       "    </tr>\n",
       "    <tr>\n",
       "      <th>1</th>\n",
       "      <td>1</td>\n",
       "      <td>0.398276</td>\n",
       "    </tr>\n",
       "    <tr>\n",
       "      <th>2</th>\n",
       "      <td>2</td>\n",
       "      <td>0.521605</td>\n",
       "    </tr>\n",
       "    <tr>\n",
       "      <th>3</th>\n",
       "      <td>3</td>\n",
       "      <td>0.579167</td>\n",
       "    </tr>\n",
       "  </tbody>\n",
       "</table>\n",
       "</div>"
      ],
      "text/plain": [
       "   cluster_num    Gender\n",
       "0            0  0.407767\n",
       "1            1  0.398276\n",
       "2            2  0.521605\n",
       "3            3  0.579167"
      ]
     },
     "execution_count": 37,
     "metadata": {},
     "output_type": "execute_result"
    }
   ],
   "source": [
    "data1['Gender'] = LabelEncoder().fit_transform(data1['Gender'])\n",
    "Gender = data1.groupby('cluster_num')['Gender'].mean()\n",
    "Gender = Gender.to_frame().reset_index()\n",
    "Gender"
   ]
  },
  {
   "cell_type": "code",
   "execution_count": 38,
   "metadata": {},
   "outputs": [
    {
     "data": {
      "image/png": "[encoded data removed]",
      "text/plain": [
       "<Figure size 648x288 with 1 Axes>"
      ]
     },
     "metadata": {
      "needs_background": "light"
     },
     "output_type": "display_data"
    }
   ],
   "source": [
    "import seaborn as sns\n",
    "segment = Gender.merge(Like, on='cluster_num', how='left').merge(visit, on='cluster_num', how='left')\n",
    "segment\n",
    "plt.figure(figsize = (9,4))\n",
    "sns.scatterplot(x = \"VisitFrequency\", y = \"Like\",data=segment,s=400, color=\"r\")\n",
    "plt.title(\"Simple segment evaluation plot for the fast food data set\",fontsize = 15) \n",
    "plt.xlabel(\"Visit\", fontsize = 12) \n",
    "plt.ylabel(\"Like\", fontsize = 12) \n",
    "plt.show()"
   ]
  },
  {
   "cell_type": "code",
   "execution_count": null,
   "metadata": {},
   "outputs": [],
   "source": []
  },
  {
   "cell_type": "code",
   "execution_count": null,
   "metadata": {},
   "outputs": [],
   "source": []
  },
  {
   "cell_type": "code",
   "execution_count": null,
   "metadata": {},
   "outputs": [],
   "source": []
  },
  {
   "cell_type": "code",
   "execution_count": null,
   "metadata": {},
   "outputs": [],
   "source": []
  }
 ],
 "metadata": {
  "kernelspec": {
   "display_name": "Python 3 (ipykernel)",
   "language": "python",
   "name": "python3"
  },
  "language_info": {
   "codemirror_mode": {
    "name": "ipython",
    "version": 3
   },
   "file_extension": ".py",
   "mimetype": "text/x-python",
   "name": "python",
   "nbconvert_exporter": "python",
   "pygments_lexer": "ipython3",
   "version": "3.10.6"
  }
 },
 "nbformat": 4,
 "nbformat_minor": 2
}
